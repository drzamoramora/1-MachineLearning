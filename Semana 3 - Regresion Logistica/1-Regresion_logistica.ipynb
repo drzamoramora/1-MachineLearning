{
 "cells": [
  {
   "cell_type": "markdown",
   "metadata": {},
   "source": [
    "# Regresión logística\n",
    "\n",
    "Hasta ahora, hemos construído modelos supervisados de **regresión**, es decir, modelos en los que la salida de la función que aprendemos es numérica. Esta semana haremos nuestros primeros modelos de **clasificación**, en los que la salida es categórica, utilizando regresión logística.\n",
    "\n",
    "Véamos un ejemplo. Tenemos un dataset con dos columnas, `horas_estudio` y `resultado_examen`. `horas_estudio` es una variable numérica que representa el número de horas que un estudiante le ha dedicado a prepararse para un examen, mientras que `resultado_examen` es una variable binaria que puede tomar uno de los varlores `APROBADO` o `REPROBADO`. \n",
    "\n",
    "| `horas_estudio` | `resultado_examen` |\n",
    "| --------------- | ------------------ |\n",
    "| 0 | `REPROBADO` |\n",
    "| 7 | `APROBADO` |\n",
    "| 3 | `REPROBADO` |\n",
    "| 4 | `APROBADO` |\n",
    "| ... | ... |\n",
    "| 2 | `REPROBADO` |\n",
    "\n",
    "Nuestro objetivo es **crear un modelo para determinar si un estudiante aprobará o no el examen**, utilizando como entrada el número de horas que ha dedicado a prepararse. Específicamente, aprenderemos una función $f(\\texttt{horas}\\_\\texttt{estudio}) \\mapsto \\left[0, 1\\right]$ que devuelve la probabilidad de que el resultado del examen sea `APROBADO`. "
   ]
  },
  {
   "cell_type": "code",
   "execution_count": 3,
   "metadata": {},
   "outputs": [],
   "source": [
    "# Ejecutemos esta celda para cargar el dataset y las bibliotecas básicas\n",
    "import matplotlib.pyplot as plt\n",
    "import numpy as np\n",
    "import math\n",
    "\n",
    "horas_estudio = [5, 4, 1, 1, 1, 2, 3, 3, 2, 0, 3, 3, 2, 3, 2, 3, 1, 5, 4, 4, 3, 4, 2, 4, 3, 3, 6, 4, 4, 5, 3, 4, 3, 2, 6, 2, 4, 4, 1, 5, 3, 3, 5, 7, 4, 3, 5, 2, 3, 5, 3, 4, 3, 3, 1, 3, 6, 0, 4, 3, 7, 2, 5, 3, 3, 4, 3, 1, 5, 4, 1, 4, 3, 1, 2, 4, 2, 2, 2, 2, 4, 3, 3, 1, 4, 2, 1, 0, 4, 4, 3, 3, 4, 6, 5, 3, 2, 2, 6, 6]\n",
    "resultado_examen = ['APROBADO', 'APROBADO', 'REPROBADO', 'REPROBADO', 'REPROBADO', 'REPROBADO', 'REPROBADO', 'APROBADO', 'REPROBADO', 'REPROBADO', 'APROBADO', 'REPROBADO', 'REPROBADO', 'APROBADO', 'REPROBADO', 'APROBADO', 'REPROBADO', 'REPROBADO', 'REPROBADO', 'APROBADO', 'APROBADO', 'APROBADO', 'REPROBADO', 'APROBADO', 'APROBADO', 'APROBADO', 'APROBADO', 'APROBADO', 'APROBADO', 'APROBADO', 'APROBADO', 'APROBADO', 'APROBADO', 'REPROBADO', 'APROBADO', 'REPROBADO', 'REPROBADO', 'APROBADO', 'REPROBADO', 'APROBADO', 'APROBADO', 'APROBADO', 'APROBADO', 'APROBADO', 'APROBADO', 'APROBADO', 'REPROBADO', 'REPROBADO', 'APROBADO', 'APROBADO', 'APROBADO', 'APROBADO', 'APROBADO', 'APROBADO', 'REPROBADO', 'APROBADO', 'APROBADO', 'REPROBADO', 'APROBADO', 'APROBADO', 'APROBADO', 'REPROBADO', 'APROBADO', 'REPROBADO', 'APROBADO', 'APROBADO', 'APROBADO', 'REPROBADO', 'APROBADO', 'APROBADO', 'REPROBADO', 'APROBADO', 'APROBADO', 'REPROBADO', 'REPROBADO', 'APROBADO', 'REPROBADO', 'REPROBADO', 'REPROBADO', 'REPROBADO', 'APROBADO', 'APROBADO', 'APROBADO', 'APROBADO', 'APROBADO', 'REPROBADO', 'REPROBADO', 'REPROBADO', 'APROBADO', 'APROBADO', 'APROBADO', 'APROBADO', 'APROBADO', 'APROBADO', 'APROBADO', 'APROBADO', 'REPROBADO', 'REPROBADO', 'APROBADO', 'APROBADO']"
   ]
  },
  {
   "cell_type": "markdown",
   "metadata": {},
   "source": [
    "### Notas importantes\n",
    "\n",
    "- El nombre _regresión_ logística suele confundir. Estrictamente *sí* es un modelo de regresión que modela una variable numérica (la probabilidad), pero lo utilizamos para construir un clasificador\n",
    "- La regresión logística es un **modelo probabilístico** (la función que aprendemos retorna una probabilidad). Otros modelos, p.ej. los árboles de decisión, producen directamente las etiquetas\n",
    "- La regresión logística modela una salida binaria, p.ej. `APROBADO`/`REPROBADO`, `TRUE`/`FALSE`. Para más de dos categorías, el modelo general es la **regresión Softmax** que estudiaremos más adelante\n",
    "- Un detalle importante en un modelo probabilístico es el \"threshold\" o **valor que marca la frontera entre una etiqueta de clasificación y la otra**. Esto lo estudiaremos con más detalle en el notebook sobre curvas ROC. Por ahora, fijaremos este valor en 0.5 ya que es el número en el que la probabilidad de una clase domina a la otra.  \n",
    "\n",
    "## Ingredientes para regresión logística\n",
    "\n",
    "Usaremos como base la función lineal de regresión $f(x) = \\beta_0 + \\beta_1 x$, con dos ingredientes adicionales:\n",
    "\n",
    "1. Una función de enlace o activación que nos garantiza que la salida estará entre 0 y 1\n",
    "2. Una función de error para minimizar, adecuada al tipo de datos binario de la salida.\n",
    "\n",
    "### La función logística\n",
    "\n",
    "Existe una familia entera de funciones llamadas sigmoides. Se les llama de esta manera porque al graficarlas producen una **línea en forma de \"S\"**. La función logística es una de ellas. De hecho, en mucha de la literatura de Machine Learning se le conoce simplemente como \"función sigmoide\". Se define de la siguiente manera: $$\\mathrm{sig} \\left(x \\right) = \\frac{1}{1 + e^{-x}}$$\n",
    "\n",
    "Su derivada con es $$\\mathrm{sig}' \\left(x \\right) = \\mathrm{sig} \\left(x \\right) \\left(1 - \\mathrm{sig} \\left( x \\right) \\right)$$\n"
   ]
  },
  {
   "cell_type": "code",
   "execution_count": 4,
   "metadata": {},
   "outputs": [],
   "source": [
    "# Definamos la función logística (sigmoide) y su derivada\n",
    "def sig(x):\n",
    "    return 1.0 / (1.0 + np.exp(-x))\n",
    "\n",
    "def d_sig(x):\n",
    "    return sig(x) * (1.0 - sig(x))"
   ]
  },
  {
   "cell_type": "code",
   "execution_count": 15,
   "metadata": {},
   "outputs": [
    {
     "name": "stdout",
     "output_type": "stream",
     "text": [
      "la derivada  d_sig(5) es 0.25\n"
     ]
    },
    {
     "data": {
      "image/png": "[encoded data removed]",
      "text/plain": [
       "<Figure size 432x288 with 1 Axes>"
      ]
     },
     "metadata": {
      "needs_background": "light"
     },
     "output_type": "display_data"
    }
   ],
   "source": [
    "# Grafiquemos la función logística. \n",
    "# Notemos cómo el valor del eje 'y' está entre 0 y 1. Notemos también que sig(0)=0.5\n",
    "x_val = np.linspace(-10, 10)\n",
    "plt.plot(x_val, sig(x_val))\n",
    "\n",
    "print(\"la función d_sig(0) es\", d_sig(0))"
   ]
  },
  {
   "cell_type": "markdown",
   "metadata": {},
   "source": [
    "### La función de entropía cruzada\n",
    "\n",
    "El segundo ingrediente para hacer regresión logística es tener una función de error que tome el lugar de MSE y sea **más adecuada para una respuesta binaria**. Para esto, denotemos la variable $y$ como un valor original obtenido del dataset y supongamos que dichos valores han sido codificados adecuadamente (siguiendo nuestro ejemplo, `1=\"APROBADO\"` y `0=\"REPROBADO\"`). "
   ]
  },
  {
   "cell_type": "code",
   "execution_count": 16,
   "metadata": {},
   "outputs": [],
   "source": [
    "# Codifiquemos la variable 'resultado_examen' de modo que APROBADO=1.0 y REPROBADO=0.0\n",
    "resultado_examen_enc = np.array([1.0 if y == 'APROBADO' else 0.0 for y in resultado_examen])"
   ]
  },
  {
   "cell_type": "markdown",
   "metadata": {},
   "source": [
    "De manera similar, denotemos la variable $\\hat{y}$ como una predicción realizada por nuestro modelo. A diferencia de $y$, que puede tomar solo los valores 0 o 1, $\\hat{y}$ puede tomar cualquier valor en el intervalo $[0,1]$. Queremos **cuantificar el error de predecir $\\hat{y}$ cuando el valor real es $y$**, así $$\\mathrm{bce}\\left(y, \\hat{y} \\right)=\\begin{cases}-\\textrm{log}(\\hat{y}) &\\textrm{si } y=1 \\\\ -\\textrm{log}(1 - \\hat{y}) &\\textrm{si } y=0\\end{cases}$$\n",
    "\n",
    "**Nota**: aquí $\\textrm{log}$ se refiere a la función de logaritmo natural. Para referirnos a la función logística, usaremos el término $\\textrm{sig}$.\n",
    "\n",
    "Tratemos de entender lo que sucede aquí. Cuando el valor real $y=1$, el error de nuestra predicción $\\hat{y}$ tenderá a cero a medida que $\\hat{y} \\rightarrow 1$, al mismo tiempo que tenderá a infinito a medida que $\\hat{y} \\rightarrow 0$. Lo mismo sucede vice-versa cuando $y=0$."
   ]
  },
  {
   "cell_type": "code",
   "execution_count": 18,
   "metadata": {},
   "outputs": [
    {
     "name": "stdout",
     "output_type": "stream",
     "text": [
      " \n",
      "Cuando y_real = 1.0 | y_pred = 0.99 \t--> error = 0.01005033585350145\n",
      "Cuando y_real = 1.0 | y_pred = 0.8 \t--> error = 0.2231435513142097\n",
      "Cuando y_real = 1.0 | y_pred = 0.5 \t--> error = 0.6931471805599453\n",
      "Cuando y_real = 1.0 | y_pred = 0.2 \t--> error = 1.6094379124341003\n",
      "Cuando y_real = 1.0 | y_pred = 0.01 \t--> error = 4.605170185988091\n",
      " \n",
      "Cuando y_real = 0.0 | y_pred = 0.99 \t--> error = 4.605170185988091\n",
      "Cuando y_real = 0.0 | y_pred = 0.8 \t--> error = 1.6094379124341005\n",
      "Cuando y_real = 0.0 | y_pred = 0.5 \t--> error = 0.6931471805599453\n",
      "Cuando y_real = 0.0 | y_pred = 0.2 \t--> error = 0.2231435513142097\n",
      "Cuando y_real = 0.0 | y_pred = 0.01 \t--> error = 0.01005033585350145\n"
     ]
    }
   ],
   "source": [
    "# Probemos la función de error de entropía cruzada con distintos valores\n",
    "def bce_simple(y_real, y_pred):\n",
    "    if math.isclose(y_real, 1.0):\n",
    "        return -math.log(y_pred)\n",
    "    \n",
    "    return -math.log(1.0 - y_pred)\n",
    "\n",
    "for rv in [1.0, 0.0]:\n",
    "    print(' ')\n",
    "    for pv in [0.99, 0.8, 0.5, 0.2, 0.01]:\n",
    "        print('Cuando y_real =', rv, '| y_pred =', pv, '\\t--> error =', bce_simple(rv, pv))"
   ]
  },
  {
   "cell_type": "markdown",
   "metadata": {},
   "source": [
    "Esta función de error se puede representar también de la forma $$\\mathrm{bce}(y, \\hat{y}) = -y \\mathrm{log}(\\hat{y}) - (1-y) \\mathrm{log}(1 - \\hat{y})$$\n",
    "siendo su derivada con respecto a $\\hat{y}$ $$\\frac{\\partial \\mathrm{bce}(y, \\hat{y})}{\\partial \\mathrm{\\hat{y}}} = \\frac{\\hat{y} - y}{\\hat{y}(1-\\hat{y})}.$$\n",
    "\n",
    "Para efectos de un dataset compuesto por $N$ observaciones, la función de error sería $$\\mathrm{bce}(\\mathbf{y}, \\mathbf{\\hat{y}}) = \\sum_{i=1}^{N} -y_i \\mathrm{log}(\\hat{y_i}) - (1-y_i) \\mathrm{log}(1 - \\hat{y_i})$$"
   ]
  },
  {
   "cell_type": "code",
   "execution_count": 19,
   "metadata": {},
   "outputs": [],
   "source": [
    "# Definamos la función de error de entropía cruzada para dataset enteros representados como arreglos de numpy\n",
    "def bce(y_real, y_pred):\n",
    "    return np.sum(-y_real*np.log(y_pred) - (1.0 - y_real)*np.log(1.0 - y_pred))\n",
    "\n",
    "def d_bce(y_real, y_pred):\n",
    "    return (y_pred - y_real) / (y_pred * (1.0-y_pred))"
   ]
  },
  {
   "cell_type": "markdown",
   "metadata": {},
   "source": [
    "### Mezclando los ingredientes\n",
    "\n",
    "Ya hemos definido los dos ingredientes adicionales para hacer regresión logística. Volvamos al planteamiento inicial sobre la ecuación de regresión $f(x) = \\beta_0 + \\beta_1 x$. En regresión logística, extendemos esta ecuación con la función logística, teniendo así el modelo $$g(x) = \\mathrm{sig} \\left( \\beta_0 + \\beta_1 x \\right).$$\n",
    "Nuestro objetivo de optimización es **encontrar los valores de $\\beta_0$ y $\\beta_1$** que minimizan el valor de la función objetivo $\\mathbf{bce}$ sobre un dataset dado.\n",
    "\n",
    "## Estimación de parámetros \n",
    "\n",
    "Volvamos a nuestro ejemplo del exámen y las horas de estudio."
   ]
  },
  {
   "cell_type": "code",
   "execution_count": 20,
   "metadata": {},
   "outputs": [],
   "source": [
    "# Definamos nuestro diccionario global de parámetros.\n",
    "dic_param = {\n",
    "    'beta1': 0.0,\n",
    "    'beta0': 0.0,\n",
    "}\n",
    "\n",
    "# Definamos nuestro diccionario global de constantes\n",
    "dic_const = {\n",
    "    'threshold': 0.5, # frontera límite de clasificación--si valor es mayor, clasifica como APROBADO.\n",
    "    'lr': 0.01, # tasa de aprendizaje para gradiente descendiente (cc cpmo Alpha/Alfa)\n",
    "    'num_iter': 500 # número de iteraciones\n",
    "}\n",
    "\n",
    "# Retorna la probabilidad de APROBADO\n",
    "def prob_aprobado(horas_estudio_x):    \n",
    "    return sig(horas_estudio_x * dic_param['beta1'] + dic_param['beta0'])\n",
    "\n",
    "# Retorna la etiqueta APROBADO/REPROBADO\n",
    "def label_aprobado(horas_estudio):\n",
    "    return 'APROBADO' if prob_aprobado(horas_estudio) > dic_const['threshold'] else 'REPROBADO'"
   ]
  },
  {
   "cell_type": "markdown",
   "metadata": {},
   "source": [
    "Para encontrar los valores de $\\beta_0$ y $\\beta_1$, utilizaremos el algoritmo de gradiente descendiente. La manera estándar de hacerlo es encontrando las derivadas de la función de costo contra $\\alpha$ y $\\beta$ utilizando la regla de la cadena de cálculo: \n",
    "$$\\frac{\\partial \\mathrm{bce}(y, \\hat{y})}{\\partial \\beta_1} = \\frac{\\partial \\mathrm{bce}(y, \\hat{y})}{\\partial \\hat{y}} \\times \\frac{\\partial \\hat{y}}{\\partial f} \\times \\frac{\\partial f}{\\partial \\beta_1}$$\n",
    "y del mismo modo con $\\beta_0$. Lo interesante es que **nosotros no tenemos que encontrar esta derivada simbólicamente**, sino simplemente multiplicar los valores numéricos resultantes de evaluar por separado las derivadas de las funciones de regresión, error y activación, teniendo estas últimas dos ya implementadas como ``d_sig`` y ``d_bce``. Como veremos más adelante, este \"truco\" es la base del algoritmo *backpropagation* que se utiliza para encontrar los parámetros de las redes neuronales. Aunque nos falta implementar las derivadas de $f(x)$ para $\\beta_0$ y $\\beta_1$, estas son $x$ y $1$, respectivamente. "
   ]
  },
  {
   "cell_type": "code",
   "execution_count": 21,
   "metadata": {},
   "outputs": [],
   "source": [
    "# Función para calcular los gradientes de b0 y b1, los devuelve como una tupla de la forma (b1,b0)\n",
    "# Recibe el dataset (x, y_real) y los valores actuales de b1 y b0\n",
    "def grads(x, y_real, cur_b1, cur_b0):\n",
    "    \n",
    "    # Calculamos el valor la función de regresión\n",
    "    f_val = x * cur_b1 + cur_b0\n",
    "    \n",
    "    # Generamos nuestra predicción\n",
    "    y_pred = sig(f_val)\n",
    "    \n",
    "    # Obtenemos el gradiente del error de dicha predicción\n",
    "    d_err = d_bce(y_real, y_pred)\n",
    "    \n",
    "    # Obtenemos el gradiente de la logística \n",
    "    d_f_val = d_sig(f_val)\n",
    "    \n",
    "    # Y los gradientes con respecto a alpha y beta usando la regla de la cadena\n",
    "    # Los sumamos para obtener un gradiente escalar que podemos utilizar en nuestra actualización de parámetros\n",
    "    d_alpha = np.sum(d_err * d_f_val * x)\n",
    "    d_beta = np.sum(d_err * d_f_val)\n",
    "    \n",
    "    return (d_alpha, d_beta)"
   ]
  },
  {
   "cell_type": "markdown",
   "metadata": {},
   "source": [
    "¡Ya tenemos todo listo para armar nuestro algoritmo de gradiente descendiente!"
   ]
  },
  {
   "cell_type": "code",
   "execution_count": 22,
   "metadata": {},
   "outputs": [],
   "source": [
    "def gd(x, y):\n",
    "    \n",
    "    # Inicializamos alpha y beta utilizando una distribución normal estándar\n",
    "    [b1, b0] = np.random.randn(2)\n",
    "    lr = dic_const['lr']\n",
    "    \n",
    "    # Lista de error por iteración (para graficar)\n",
    "    errs = []\n",
    "    \n",
    "    for i in range(dic_const['num_iter']):\n",
    "        \n",
    "        # Calculamos las predicciones y el error para todo el dataset\n",
    "        pred = sig(b1*x + b0)\n",
    "        err = bce(y, pred)\n",
    "        \n",
    "        # Calculamos los gradientes\n",
    "        (d_b1, d_b0) = grads(x, y, b1, b0)\n",
    "        \n",
    "        # Actualizamos los parámetros usando los gradientes y la tasa de aprendizaje\n",
    "        b1 = b1 - lr * d_b1\n",
    "        b0 = b0 - lr * d_b0\n",
    "        \n",
    "        # Guardamos el error de esta iteración\n",
    "        errs.append(err)\n",
    "        \n",
    "    \n",
    "    # Actualizamos los valores de los parámetros para salida\n",
    "    dic_param['beta1'] = b1\n",
    "    dic_param['beta0'] = b0\n",
    "    \n",
    "    return errs"
   ]
  },
  {
   "cell_type": "code",
   "execution_count": 23,
   "metadata": {},
   "outputs": [
    {
     "data": {
      "image/png": "[encoded data removed]",
      "text/plain": [
       "<Figure size 432x288 with 1 Axes>"
      ]
     },
     "metadata": {
      "needs_background": "light"
     },
     "output_type": "display_data"
    },
    {
     "data": {
      "image/png": "[encoded data removed]",
      "text/plain": [
       "<Figure size 432x288 with 1 Axes>"
      ]
     },
     "metadata": {
      "needs_background": "light"
     },
     "output_type": "display_data"
    }
   ],
   "source": [
    "# Ejecutamos nuestra optimización con descenso de gradientes y graficamos la curva de error entre iteraciones\n",
    "errs = gd(np.array(horas_estudio), resultado_examen_enc)\n",
    "plt.plot(errs)\n",
    "plt.show()\n",
    "\n",
    "# Probamos nuestro modelo contra distintas horas de estudio y graficamos la probabilidad\n",
    "hora_test = np.linspace(0, 10)\n",
    "hora_prob = prob_aprobado(hora_test)\n",
    "plt.plot(hora_test, hora_prob)\n",
    "plt.show()"
   ]
  },
  {
   "cell_type": "code",
   "execution_count": 40,
   "metadata": {},
   "outputs": [
    {
     "name": "stdout",
     "output_type": "stream",
     "text": [
      "Si ud estudia durante 3.5 horas, ud tiene una probabilidad de pasar de 0.832724358847713 lo que indica que estara APROBADO\n",
      "Coeficientes b0: -4.469984300163011 b1: 1.7357268537832182\n",
      "BCE: 37.09598007426958\n"
     ]
    }
   ],
   "source": [
    "# Realizamos una prediccion:\n",
    "horas = 3.5\n",
    "hora_prob = prob_aprobado(horas)\n",
    "pred = label_aprobado(horas)\n",
    "\n",
    "print(\"Si ud estudia durante\",horas, \n",
    "      \"horas, ud tiene una probabilidad de pasar de\",hora_prob,\"lo que indica que estara\",pred)\n",
    "\n",
    "print(\"Coeficientes b0:\",dic_param['beta0'], \"b1:\",dic_param['beta1'])\n",
    "print(\"BCE:\", errs[len(errs)-1])"
   ]
  },
  {
   "cell_type": "code",
   "execution_count": 62,
   "metadata": {},
   "outputs": [
    {
     "name": "stdout",
     "output_type": "stream",
     "text": [
      "El algoritmo puede predecir el dataset completo con una exactitud del  92.0 %\n"
     ]
    }
   ],
   "source": [
    "# Revisar la prediccion sobre el dataset. (warning: hacer esto en train/test set en las practicas)\n",
    "\n",
    "# variable dependiente (prediccion)\n",
    "y_prima = [label_aprobado(p) for p in horas_estudio]\n",
    "\n",
    "# variable dependiente\n",
    "y = resultado_examen\n",
    "\n",
    "# exactitud\n",
    "acc = np.sum((np.array(y_prima) == np.array(y)) * 1) / len(y)\n",
    "\n",
    "print(\"El algoritmo puede predecir el dataset completo con una exactitud del \", acc * 100,\"%\")"
   ]
  },
  {
   "cell_type": "markdown",
   "metadata": {},
   "source": [
    "## Regresión logística multivariable\n",
    "\n",
    "Ya que tenemos nuestro primer modelo, vamos a hacer una extensión importante: multiples variables de entrada. Supongamos, que además de ``horas_estudio``, tenemos otras variables adicionales en nuestro dataset: ``horas_sueno`` y ``num_repeticiones`` que representan respectivamente el número de horas de sueño antes de tomar el examen, y el número de veces que el estudiante ha tomado el examen anteriormente (``0`` si es la primera vez que lo toma). De modo que ahora la función que debemos aprender es $f\\left(\\texttt{horas}\\_\\texttt{estudio}, \\texttt{horas}\\_\\texttt{sueno}, \\texttt{num}\\_\\texttt{repeticiones} \\right) \\mapsto \\left[0, 1 \\right]$.\n",
    "\n",
    "Esto cambia el problema de varias maneras:\n",
    "\n",
    "1. $\\mathbf{x}$ en nuestro dataset pasa de ser un vector de $N$ valores, a una matriz $X$ de $N \\times 3$\n",
    "2. $\\beta_i$ pasa de ser un valor escalar y se convierte en un vector $\\boldsymbol{\\beta}$ de $3$ valores.\n",
    "3. Nuestro modelo es ahora $g(\\mathbf{x}) = \\mathrm{sig} \\left(\\beta_1 x_1 + \\beta_2 x_2 + \\beta_3 x_3 + \\beta_0 \\right) = \\mathrm{sig}\\left(\\boldsymbol{\\beta_i}^{\\mathrm{T}}\\mathbf{x} + \\beta_0 \\right)$\n",
    "\n",
    "Veamos primero como quedan nuestros datos"
   ]
  },
  {
   "cell_type": "code",
   "execution_count": 32,
   "metadata": {},
   "outputs": [],
   "source": [
    "# Dataset\n",
    "horas_sueno = [4, 4, 5, 5, 4, 6, 7, 7, 5, 8, 5, 7, 7, 7, 7, 7, 4, 8, 4, 8, 6, 8, 5, 4, 5, 5, 7, 4, 6, 8, 6, 4, 7, 4, 5, 7, 7, 4, 6, 6, 5, 6, 7, 6, 4, 8, 7, 4, 4, 6, 5, 8, 6, 8, 4, 5, 4, 6, 8, 5, 6, 6, 5, 6, 4, 8, 4, 6, 5, 7, 5, 6, 7, 7, 8, 4, 4, 6, 8, 6, 4, 6, 5, 5, 5, 4, 4, 7, 8, 5, 4, 8, 5, 6, 5, 6, 7, 7, 4, 5]\n",
    "repeticiones = [0, 0, 0, 0, 0, 0, 0, 0, 0, 0, 0, 0, 0, 0, 0, 0, 0, 0, 0, 0, 0, 1, 0, 0, 0, 1, 0, 0, 1, 0, 0, 1, 0, 0, 0, 0, 0, 1, 0, 0, 0, 0, 0, 0, 0, 1, 0, 0, 0, 0, 0, 0, 0, 0, 0, 0, 0, 0, 0, 0, 0, 0, 0, 0, 0, 1, 0, 0, 1, 0, 0, 1, 0, 1, 0, 0, 0, 0, 1, 0, 1, 0, 0, 0, 0, 0, 0, 0, 0, 0, 1, 0, 0, 0, 0, 0, 0, 0, 0, 0]\n",
    "\n",
    "# Combinamos los tres arreglos 'horas_estudio', 'horas_sueno' y 'repeticiones' en una matriz de Nx3\n",
    "datos_mul = np.array((horas_estudio, horas_sueno, repeticiones)).transpose()\n",
    "\n",
    "# Definimos un diccionario de parámetros nuevo para el caso multivariable\n",
    "dic_param_mul = {\n",
    "    'bi': np.array([0.0, 0.0, 0.0]), # ahora es un vector\n",
    "    'b0': 0.0 # permanece igual\n",
    "}\n",
    "\n",
    "# Definamos nuestro diccionario global de constantes\n",
    "dic_const_mul = {\n",
    "    'threshold': 0.5, # frontera límite de clasificación--si valor es mayor, clasifica como APROBADO.\n",
    "    'lr': 0.001, # tasa de aprendizaje para gradiente descendiente -- MAS PEQUEÑA EN ESTE CASO\n",
    "    'num_iter': 1000 # número de iteraciones -- MÁS ALTA EN ESTE CASO\n",
    "}\n"
   ]
  },
  {
   "cell_type": "markdown",
   "metadata": {},
   "source": [
    "El cambio más importante viene a la hora de aplicar la función de regresión. Para poder multiplicar el vector $\\boldsymbol{\\beta_i}$ contra el vector de valores $\\mathbf{x}$ y producir un valor escalar, utilizaremos la función ``numpy.dot``. Este cambio lo debemos hacer en nuestra función de evaluación de gradientes y en la de optimización gradiente descendiente."
   ]
  },
  {
   "cell_type": "code",
   "execution_count": 37,
   "metadata": {},
   "outputs": [],
   "source": [
    "# Función para calcular los gradientes de alpha y beta, los devuelve como una tupla de la forma (alpha,beta)\n",
    "# Recibe el dataset (x, y_real) y los valores actuales de alpha y beta\n",
    "def grads_mul(x, y_real, cur_bi, cur_b0):\n",
    "    \n",
    "    # Calculamos el valor la función de regresión\n",
    "    # OBSERVEMOS ESTE CAMBIO contra la implementación anterior\n",
    "    ### ANTES: f_val = x * cur_alpha + cur_beta\n",
    "    ### AHORA:\n",
    "    f_val = np.dot(x, cur_bi) + cur_b0\n",
    "    \n",
    "    # Generamos nuestra predicción\n",
    "    y_pred = sig(f_val)\n",
    "    \n",
    "    # Obtenemos el gradiente del error de dicha predicción\n",
    "    d_err = d_bce(y_real, y_pred)\n",
    "    \n",
    "    # Obtenemos el gradiente de la logística \n",
    "    d_f_val = d_sig(f_val)\n",
    "    \n",
    "    # Y los gradientes con respecto a alpha y beta usando la regla de la cadena\n",
    "    # Los sumamos para obtener un gradiente escalar que podemos utilizar en nuestra actualización de parámetros\n",
    "    ### ANTES: d_alpha = np.sum(d_err * d_f_val * x)\n",
    "    ### AHORA:\n",
    "    d_bi = np.dot(d_err * d_f_val, x)\n",
    "    d_b0 = np.sum(d_err * d_f_val)\n",
    "    \n",
    "    return (d_bi, d_b0)\n",
    "\n",
    "# Ahora cambiemos la función de obtención de gradientes\n",
    "def gd_mul(x, y):\n",
    "    \n",
    "    # Inicializamos alpha y beta utilizando una distribución normal estándar\n",
    "    # CAMBIO: los inicializamos ahora por separado\n",
    "    bi = np.random.randn(3)\n",
    "    [b0] = np.random.randn(1)\n",
    "    lr = dic_const_mul['lr']\n",
    "    \n",
    "    # Lista de error por iteración (para graficar)\n",
    "    errs = []\n",
    "    \n",
    "    for i in range(dic_const_mul['num_iter']):\n",
    "        \n",
    "        # Calculamos las predicciones y el error para todo el dataset\n",
    "        # CAMBIO: función de regresión usando np.dot\n",
    "        ### ANTES: pred = sig(alpha*x + beta)\n",
    "        pred = sig(np.dot(x, bi) + b0)\n",
    "        err = bce(y, pred)\n",
    "        \n",
    "        # Calculamos los gradientes\n",
    "        ### CAMBIO: utilizamos 'grads_mul' en vez de 'grads'\n",
    "        (d_bi, d_b0) = grads_mul(x, y, bi, b0)\n",
    "        \n",
    "        # Actualizamos los parámetros usando los gradientes y la tasa de aprendizaje\n",
    "        bi = bi - lr * d_bi\n",
    "        b0 = b0 - lr * d_b0\n",
    "        \n",
    "        # Guardamos el error de esta iteración\n",
    "        errs.append(err)\n",
    "\n",
    "    # Actualizamos los valores de los parámetros para salida\n",
    "    dic_param_mul['betai'] = bi\n",
    "    dic_param_mul['beta0'] = b0\n",
    "    \n",
    "    return errs"
   ]
  },
  {
   "cell_type": "code",
   "execution_count": 38,
   "metadata": {},
   "outputs": [
    {
     "data": {
      "text/plain": [
       "[<matplotlib.lines.Line2D at 0x7facc78e8630>]"
      ]
     },
     "execution_count": 38,
     "metadata": {},
     "output_type": "execute_result"
    },
    {
     "data": {
      "image/png": "[encoded data removed]",
      "text/plain": [
       "<Figure size 432x288 with 1 Axes>"
      ]
     },
     "metadata": {
      "needs_background": "light"
     },
     "output_type": "display_data"
    }
   ],
   "source": [
    "# Ejecutamos nuestro algoritmo de optimización y graficamos la evolución de nuestra función de error por cada iteración\n",
    "errs = gd_mul(datos_mul, resultado_examen_enc)\n",
    "plt.plot(errs)"
   ]
  },
  {
   "cell_type": "code",
   "execution_count": 63,
   "metadata": {},
   "outputs": [],
   "source": [
    "# EJERCICIO OPCIONAL:\n",
    "# 1) imprima el valor de los coeficientes\n",
    "# 2) imprima el ultimo valor del BCE\n",
    "# 3) Calcule la exactitud de todo el dataset"
   ]
  }
 ],
 "metadata": {
  "kernelspec": {
   "display_name": "Python 3",
   "language": "python",
   "name": "python3"
  },
  "language_info": {
   "codemirror_mode": {
    "name": "ipython",
    "version": 3
   },
   "file_extension": ".py",
   "mimetype": "text/x-python",
   "name": "python",
   "nbconvert_exporter": "python",
   "pygments_lexer": "ipython3",
   "version": "3.6.9"
  }
 },
 "nbformat": 4,
 "nbformat_minor": 2
}

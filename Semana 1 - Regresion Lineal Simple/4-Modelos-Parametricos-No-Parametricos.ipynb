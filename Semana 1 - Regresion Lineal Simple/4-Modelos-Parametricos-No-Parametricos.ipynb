{
 "cells": [
  {
   "cell_type": "markdown",
   "metadata": {},
   "source": [
    "## Modelos Paramétricos y No Paramétricos"
   ]
  },
  {
   "cell_type": "markdown",
   "metadata": {},
   "source": [
    "- <font color=red>Definición 1.11</font> Un **modelo paramétrico** es aquel que necesita extraer una serie de coeficientes para poder ajustarse a los datos.\n",
    "\n",
    "- *Regresión lineal* es un ejemplo de un modelo paramétrico. Su función de aprendizaje f(x) = y = b0 + b1 * x, e indica que se deben averiguar los coeficientes b0 y b1 para que f(x) pueda ajustarse adecuadamente a los datos. \n",
    "\n",
    "Otros algoritmos paramétricos: \n",
    "- Regresión Logística\n",
    "- Análisis de Discriminante Lineal\n",
    "- Perceptron\n",
    "- Naive Bayes\n",
    "\n",
    "<font color=red>Definición 1.12</font> Un **modelo no paramétrico** es aquel que **no** necesita extraer coeficientes de los datos para poder ajustarse a los datos. \n",
    "\n",
    "Algunos algoritmos de ML no paramétricos\n",
    "\n",
    "- KNN (K-Vecinos más cercanos)\n",
    "- Árboles de Decisión\n",
    "- Máquinas de Soporte Vectorial (SVM)\n"
   ]
  },
  {
   "cell_type": "markdown",
   "metadata": {},
   "source": [
    "### Ejemplo de Modelo Paramétrico - Regresión Lineal"
   ]
  },
  {
   "cell_type": "code",
   "execution_count": null,
   "metadata": {},
   "outputs": [],
   "source": [
    "import numpy as np\n",
    "import matplotlib.pyplot as plt"
   ]
  },
  {
   "cell_type": "code",
   "execution_count": null,
   "metadata": {},
   "outputs": [],
   "source": [
    "X = np.array([0.01      , 0.01930698, 0.03727594, 0.07196857, 0.13894955,\n",
    "       0.26826958, 0.51794747, 1.])\n",
    "\n",
    "y = np.array([1.79111708, 1.81833914, 3.20477112, 5.30543043, 6.74879517,\n",
    "       6.79595893, 8.85678367, 9.01523049])\n",
    "\n",
    "# coeficientes a averiguar: b0 y b1\n",
    "def func_reg_lineal(X,b0,b1):\n",
    "    return b0 + b1 * X"
   ]
  },
  {
   "cell_type": "code",
   "execution_count": null,
   "metadata": {},
   "outputs": [],
   "source": [
    "# la funcion func_reg_lineal es la funcion de aprendizaje. Esta funcion usa b0 y b1 para trazar una linea que se ajusta a los datos\n",
    "y_prima1 = func_reg_lineal(X, 1.5, 15)\n",
    "y_prima2 = func_reg_lineal(X, 2.5, 5)\n",
    "y_prima3 = func_reg_lineal(X, 6, 2)\n",
    "\n",
    "plt.scatter(X,y, marker = \"x\", s = 60, c = \"black\")\n",
    "plt.plot(X, y_prima1, c = \"orange\")\n",
    "plt.plot(X, y_prima2, c = \"blue\")\n",
    "plt.plot(X, y_prima3, c = \"green\")\n",
    "plt.show()"
   ]
  },
  {
   "cell_type": "markdown",
   "metadata": {},
   "source": [
    "Cual de parametros beta es mejor? Averiguemoslo en el siguiente Notebook!"
   ]
  }
 ],
 "metadata": {
  "kernelspec": {
   "display_name": "Python 3",
   "language": "python",
   "name": "python3"
  },
  "language_info": {
   "codemirror_mode": {
    "name": "ipython",
    "version": 3
   },
   "file_extension": ".py",
   "mimetype": "text/x-python",
   "name": "python",
   "nbconvert_exporter": "python",
   "pygments_lexer": "ipython3",
   "version": "3.6.10"
  }
 },
 "nbformat": 4,
 "nbformat_minor": 4
}

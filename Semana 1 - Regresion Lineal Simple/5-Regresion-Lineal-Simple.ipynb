{
 "cells": [
  {
   "cell_type": "code",
   "execution_count": null,
   "metadata": {},
   "outputs": [],
   "source": [
    "from sklearn import datasets\n",
    "import numpy as np\n",
    "import matplotlib.pyplot as plt"
   ]
  },
  {
   "cell_type": "markdown",
   "metadata": {},
   "source": [
    "### Descripción del Dataset de Diabetes\n",
    "\n",
    "## X\n",
    "- age age in years\n",
    "- sex\n",
    "- bmi body mass index (**vamos a utilizar solamente esta variable**)\n",
    "- bp average blood pressure\n",
    "- s1 tc, T-Cells (a type of white blood cells)\n",
    "- s2 ldl, low-density lipoproteins\n",
    "- s3 hdl, high-density lipoproteins\n",
    "- s4 tch, thyroid stimulating hormone\n",
    "- s5 ltg, lamotrigine\n",
    "- s6 glu, blood sugar level\n",
    "\n",
    "## y\n",
    "- es la progresion de la enfermedad a una año después de la medición."
   ]
  },
  {
   "cell_type": "code",
   "execution_count": null,
   "metadata": {},
   "outputs": [],
   "source": [
    "# Cargar el dataset\n",
    "X, y = datasets.load_diabetes(return_X_y=True)"
   ]
  },
  {
   "cell_type": "code",
   "execution_count": null,
   "metadata": {},
   "outputs": [],
   "source": [
    "# X tiene 10 variables (columnas / features y 442 ejemplos)\n",
    "X.shape"
   ]
  },
  {
   "cell_type": "code",
   "execution_count": null,
   "metadata": {},
   "outputs": [],
   "source": [
    "# vamos a seleccionar un solo feature (una sola variable)\n",
    "# esta variable es Bmi (Body Mass Index)\n",
    "bmi = X[:, np.newaxis, 2]"
   ]
  },
  {
   "cell_type": "code",
   "execution_count": null,
   "metadata": {},
   "outputs": [],
   "source": [
    "# vamos a renombrar y, para que represente el nivel de progreso de la enfermedad\n",
    "progreso = y"
   ]
  },
  {
   "cell_type": "markdown",
   "metadata": {},
   "source": [
    "### Desplegar **Todos** los datos con Matplotlib"
   ]
  },
  {
   "cell_type": "code",
   "execution_count": null,
   "metadata": {},
   "outputs": [],
   "source": [
    "plt.scatter(bmi,progreso, marker = \".\", s = 60, c = \"green\")\n",
    "plt.xlabel(\"Bmi\")\n",
    "plt.ylabel(\"Progreso de la Enfermedad\")\n",
    "plt.show()"
   ]
  },
  {
   "cell_type": "markdown",
   "metadata": {},
   "source": [
    "### Selección de Set de Entrenamiento (70%) y Pruebas (30%)"
   ]
  },
  {
   "cell_type": "code",
   "execution_count": null,
   "metadata": {},
   "outputs": [],
   "source": [
    "# aqui utilizamos la funcion train_test_split de sklearn para seleccionar los sets.\n",
    "from sklearn.model_selection import train_test_split\n",
    "\n",
    "bmi_train, bmi_test, progreso_train, progreso_test = train_test_split(bmi, progreso, test_size=0.30, random_state=42)"
   ]
  },
  {
   "cell_type": "markdown",
   "metadata": {},
   "source": [
    "### Desplegar set de entrenamiento y set de pruebas"
   ]
  },
  {
   "cell_type": "code",
   "execution_count": null,
   "metadata": {},
   "outputs": [],
   "source": [
    "# vamos a crear una figura con 2 slots con matplotlib\n",
    "fig, (ax1, ax2) = plt.subplots(1, 2, figsize=(20, 8))\n",
    "\n",
    "# ax1 es el primer grafico del set de entrenamiento (Azul)\n",
    "ax1.scatter(bmi_train,progreso_train, marker = \".\", s = 60, c = \"blue\")\n",
    "\n",
    "# ax2 es el segundo grafico del set de pruebas (Rojo)\n",
    "ax2.scatter(bmi_test,progreso_test, marker = \".\", s = 60, c = \"red\")\n",
    "\n",
    "fig.text(0.5, 0.04, 'Bmi - Indice de Masa Corporal', ha='center')\n",
    "fig.text(0.09, 0.5, 'Progreso de la Enfermedad', va='center', rotation='vertical')\n",
    "\n",
    "plt.show()"
   ]
  },
  {
   "cell_type": "markdown",
   "metadata": {},
   "source": [
    "### Regresion Lineal"
   ]
  },
  {
   "cell_type": "markdown",
   "metadata": {},
   "source": [
    "Para iniciar con regresión lineal, debemos tener una función de predicción:\n",
    "\n",
    "- $y=\\beta_0 +\\beta_1 x$\n",
    "\n",
    "Donde:\n",
    "\n",
    "* $\\beta_0$ es la intersección con el eje Y\n",
    "* $\\beta_1$ es la pendiente\n",
    "\n",
    "Cual es el objetivo de Regresión Lineal:\n",
    "\n",
    "* encontrar los coeficientes $\\beta_0$ y $\\beta_1$ que minimicen el error. En otras palabras, encontrar los coeficientes beta tales que cuando el modelo se dibuje (la línea de predicción), ésta pase lo más cerca de todos los puntos.\n"
   ]
  },
  {
   "cell_type": "code",
   "execution_count": null,
   "metadata": {},
   "outputs": [],
   "source": [
    "# funciones de regresion lineal:\n",
    "def regresion_lineal(X, b0, b1):\n",
    "    return b0 + b1 * X"
   ]
  },
  {
   "cell_type": "code",
   "execution_count": null,
   "metadata": {},
   "outputs": [],
   "source": [
    "# vamos a definir unos parametros beta cualquiera para probar el ajuste.\n",
    "# todo el estudio de ajuste y estimacion de parametros se hace sobre el set de entrenamiento\n",
    "\n",
    "b_0i = 50\n",
    "b_1i = 1300\n",
    "\n",
    "plt.scatter(bmi_train,progreso_train, marker = \".\", s = 60, c = \"blue\")\n",
    "plt.xlabel(\"Bmi\")\n",
    "plt.ylabel(\"Progreso de la Enfermedad\")\n",
    "\n",
    "# aqui estimamos la linea de regresion con unos parametros beta inventados.\n",
    "y_prima = regresion_lineal(bmi_train, b_0i, b_1i)\n",
    "\n",
    "# desplegamos el modelo\n",
    "plt.plot(bmi_train, y_prima, c = \"red\")\n",
    "\n",
    "plt.show()"
   ]
  },
  {
   "cell_type": "markdown",
   "metadata": {},
   "source": [
    "### Como encontrar $\\beta_0$ y $\\beta_1$\n",
    "\n",
    "$\n",
    "{\\displaystyle {\\text{Encuentre }}\\min _{\\beta_0 ,\\,\\beta_1 }Q(\\beta_0 ,\\beta_1 ),\\quad {\\text{for }}Q(\\beta_0 ,\\beta_1 )=\\sum _{i=1}^{n}{\\widehat {\\varepsilon }}_{i}^{\\,2}=\\sum _{i=1}^{n}(y_{i}-\\beta_0 -\\beta_1 x_{i})^{2}\\ .}\n",
    "$\n",
    "\n",
    "Donde:\n",
    "\n",
    "* La suma de residuales (RSS) = ${\\varepsilon_1}^{2}+{\\varepsilon_2}^{2}+, ..., +{\\varepsilon_n}^{2}$\n",
    "* ${\\varepsilon_i}^{2} = (y_{i}-\\beta_0 -\\beta_1 x_{i})^{2}$\n",
    "* Las variables $\\beta_0$ and $\\beta_1$ van a minimizar RSS. \n",
    "\n",
    "La pendiente $\\beta_1$ se calcula:\n",
    "\n",
    "* $\\beta_1 = \\frac{\\sum{(x_i - \\bar x)(y_i - \\bar y)}}{\\sum{(x_i - \\bar x)}^{2}}$\n",
    "\n",
    "$\\beta_0$ se calcula como:\n",
    "\n",
    "* $\\beta_0 = \\bar y - \\beta_1\\bar x$\n"
   ]
  },
  {
   "cell_type": "code",
   "execution_count": null,
   "metadata": {},
   "outputs": [],
   "source": [
    "# calculamos la pendiente\n",
    "\n",
    "x = bmi_train\n",
    "x_mean = np.mean(x)\n",
    "\n",
    "y = progreso_train.reshape(-1,1)\n",
    "y_mean = np.mean(y)\n",
    "\n",
    "# b1\n",
    "b_1 = np.sum((x - x_mean) * (y - y_mean)) / np.sum((x - x_mean)**2)\n",
    "\n",
    "# b0\n",
    "b_0 = y_mean - b_1 * x_mean\n",
    "\n",
    "# suma de residuales\n",
    "rss = np.sum((y - b_0 - b_1 * x)**2)\n",
    "\n",
    "print(\"b0:\",b_0, \"b1:\", b_1, \"rss:\", rss)"
   ]
  },
  {
   "cell_type": "code",
   "execution_count": null,
   "metadata": {},
   "outputs": [],
   "source": [
    "plt.scatter(bmi_train,progreso_train, marker = \".\", s = 60, c = \"blue\")\n",
    "plt.xlabel(\"Bmi\")\n",
    "plt.ylabel(\"Progreso de la Enfermedad\")\n",
    "\n",
    "# aqui estimamos la linea de regresion con unos parametros beta inventados.\n",
    "y_prima = regresion_lineal(bmi_train, b_0, b_1)\n",
    "\n",
    "# desplegamos el modelo que minimiza RSS\n",
    "plt.plot(bmi_train, y_prima, 'r--', c = \"magenta\")\n",
    "\n",
    "# coeficientes falsos del principio\n",
    "# y_prima_falsa = regresion_lineal(bmi_train, b_0i, b_1i)\n",
    "# nuestro modelo inicial\n",
    "# plt.plot(bmi_train, y_prima_falsa, '-', c = \"red\")\n",
    "\n",
    "plt.show()"
   ]
  },
  {
   "cell_type": "code",
   "execution_count": null,
   "metadata": {},
   "outputs": [],
   "source": [
    "rss_inicial = np.sum((y - b_0i - b_0i * x)**2)\n",
    "\n",
    "print(\"RSS optimo:\", rss)\n",
    "print(\"RSS inicial:\", rss_inicial)"
   ]
  },
  {
   "cell_type": "markdown",
   "metadata": {},
   "source": [
    "El RSS de 1,204,931 minimiza la función de regresión lineal bajo los coeficientes beta encontrados."
   ]
  },
  {
   "cell_type": "markdown",
   "metadata": {},
   "source": [
    "### MSE\n",
    "\n",
    "* $MSE = \\frac{1}{N}RSS$\n",
    "\n",
    "MSE:\n",
    "- <font color=red>Definición 1.13</font> *MSE* o Error Medio al Cuadrado, se usa para referirse a la estimación imparcial de la varianza del error: la suma residual de cuadrados dividida por el número de grados de libertad.\n",
    "- <font color=red>Definición 1.14</font> *Función de Pérdida (Loss Function)* Es aquella que nos permite estimar la diferencia entre la predicción y el valor verdadero. Si la pérdida es igual a cero, entonces la predicción es perfecta. \n",
    "\n",
    "MSE es comúnmente utilizada como una función de pérdida para modelos de aprendizaje automático.\n"
   ]
  },
  {
   "cell_type": "code",
   "execution_count": null,
   "metadata": {},
   "outputs": [],
   "source": [
    "N = len(x)\n",
    "mse =  (1/N) * rss\n",
    "print(\"MSE:\",mse)"
   ]
  },
  {
   "cell_type": "markdown",
   "metadata": {},
   "source": [
    "## Que tan bueno es nuestro modelo, para predecir valores distintos al set de entrenamiento?\n",
    "\n",
    "Para esto fue que sacamos un 30% de los datos en el test set, donde de verdad vamos validar nuestro modelo de regresión lineal.\n",
    "El MSE 3899.4547 nos indica el ajuste para el set de entrenamiento. Ahora vamos a usar el modelo ya entrenado (algoritmo, y coeficientes beta) para predecir sobre el set de pruebas."
   ]
  },
  {
   "cell_type": "code",
   "execution_count": null,
   "metadata": {},
   "outputs": [],
   "source": [
    "# realizamos la prediccion sobre el set de prueba con los coeficientes del set de entrenamiento\n",
    "y_prima_test = regresion_lineal(bmi_test, b_0, b_1)\n",
    "\n",
    "# calculamos RSS\n",
    "x = bmi_test\n",
    "y = progreso_test.reshape(-1,1)\n",
    "rss_test = np.sum((y - b_0 - b_0 * x)**2)\n",
    "\n",
    "# Calculamos  MSE\n",
    "N = len(x)\n",
    "mse_test =  (1/N) * rss_test\n",
    "\n",
    "print(\"MSE Test:\",mse_test)"
   ]
  },
  {
   "cell_type": "code",
   "execution_count": null,
   "metadata": {},
   "outputs": [],
   "source": [
    "plt.scatter(bmi_test,progreso_test, marker = \".\", s = 60, c = \"red\")\n",
    "plt.xlabel(\"Bmi (Test)\")\n",
    "plt.ylabel(\"Progreso de la Enfermedad (Test)\")\n",
    "\n",
    "# desplegamos el modelo calculado\n",
    "plt.plot(bmi_train, y_prima, 'r--', c = \"purple\")\n",
    "\n",
    "plt.show()"
   ]
  },
  {
   "cell_type": "code",
   "execution_count": null,
   "metadata": {},
   "outputs": [],
   "source": [
    "print(\"Diferencia de la pérdida entre el Training y Test set:\", mse_test - mse)"
   ]
  }
 ],
 "metadata": {
  "kernelspec": {
   "display_name": "Python 3",
   "language": "python",
   "name": "python3"
  },
  "language_info": {
   "codemirror_mode": {
    "name": "ipython",
    "version": 3
   },
   "file_extension": ".py",
   "mimetype": "text/x-python",
   "name": "python",
   "nbconvert_exporter": "python",
   "pygments_lexer": "ipython3",
   "version": "3.6.10"
  }
 },
 "nbformat": 4,
 "nbformat_minor": 4
}

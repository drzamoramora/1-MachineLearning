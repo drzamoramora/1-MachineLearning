{
 "cells": [
  {
   "cell_type": "markdown",
   "metadata": {},
   "source": [
    "## Modelos Lineales\n",
    "\n",
    "<font color=red>Definición 1.10</font> Un **modelo lineal** es aquel que contiene coeficientes lineales. Los coeficientes lineales son aquellos en donde cada término es aditivo y contiene un solo parámetro que multiplica el término.\n",
    "\n",
    "Por ejemplo: \n",
    "\n",
    "- y = mx + b (fórmula de la línea, donde m es la pendiente, x es el termino y b es la interseccion con el eje y)\n",
    "- y = βo * 1 + β1 * X1 + β2 * X2 + ... + βk * Xk (X son las variables, β se les llama coeficientes)\n",
    "- y = x^2 es también un modelo lineal\n",
    "- y βo * 1 + β1 * X1^2 (modelos polinomiales)"
   ]
  },
  {
   "cell_type": "code",
   "execution_count": null,
   "metadata": {},
   "outputs": [],
   "source": [
    "import numpy as np\n",
    "import matplotlib.pyplot as plt"
   ]
  },
  {
   "cell_type": "code",
   "execution_count": null,
   "metadata": {},
   "outputs": [],
   "source": [
    "def func_1(X,b0,b1):\n",
    "    return b0 + b1 * X"
   ]
  },
  {
   "cell_type": "code",
   "execution_count": null,
   "metadata": {},
   "outputs": [],
   "source": [
    "X = np.array([0.01      , 0.01930698, 0.03727594, 0.07196857, 0.13894955,\n",
    "       0.26826958, 0.51794747, 1.])\n",
    "\n",
    "y = np.array([1.79111708, 1.81833914, 3.20477112, 5.30543043, 6.74879517,\n",
    "       6.79595893, 8.85678367, 9.01523049])"
   ]
  },
  {
   "cell_type": "code",
   "execution_count": null,
   "metadata": {},
   "outputs": [],
   "source": [
    "# la funcion func_1 genra un modelo lineal para X con los coeficientes (1.5 y 15)\n",
    "y_prima = func_1(X, 1.5, 15)\n",
    "\n",
    "plt.scatter(X,y, marker = \"x\", s = 60, c = \"black\")\n",
    "plt.plot(X, y_prima, c = \"red\")\n",
    "plt.show()"
   ]
  },
  {
   "cell_type": "code",
   "execution_count": null,
   "metadata": {},
   "outputs": [],
   "source": [
    "def func_2(X,b0,b1):\n",
    "    return b0 + b1 * X**2 + b1 * X**3\n",
    "\n",
    "# la funcion func_2 crea un modelo polinomial)\n",
    "y_prima = func_2(X, 1.5, 5)\n",
    "\n",
    "plt.scatter(X,y, marker = \"x\", s = 60, c = \"black\")\n",
    "plt.plot(X, y_prima, c = \"red\")\n",
    "plt.show()"
   ]
  },
  {
   "cell_type": "markdown",
   "metadata": {},
   "source": [
    "## Modelo No-Lineal\n",
    "\n",
    "<font color=red>Definición 1.10</font> Un **modelo no lineal** es aquel que no cumple con la definición 1.9."
   ]
  },
  {
   "cell_type": "code",
   "execution_count": null,
   "metadata": {},
   "outputs": [],
   "source": [
    "def func_3(x, a, b, Offset):\n",
    "    return  1.0 / (1.0 + np.exp(-a * (x-b))) + Offset\n",
    "\n",
    "X = np.array([19.1647, 18.0189, 16.9550, 15.7683, 14.7044, 13.6269, 12.6040, 11.4309, 10.2987, 9.23465, 8.18440, 7.89789, 7.62498, 7.36571, 7.01106, 6.71094, 6.46548, 6.27436, 6.16543, 6.05569, 5.91904, 5.78247, 5.53661, 4.85425, 4.29468, 3.74888, 3.16206, 2.58882, 1.93371, 1.52426, 1.14211, 0.719035, 0.377708, 0.0226971, -0.223181, -0.537231, -0.878491, -1.27484, -1.45266, -1.57583, -1.61717])\n",
    "y = np.array([0.644557, 0.641059, 0.637555, 0.634059, 0.634135, 0.631825, 0.631899, 0.627209, 0.622516, 0.617818, 0.616103, 0.613736, 0.610175, 0.606613, 0.605445, 0.603676, 0.604887, 0.600127, 0.604909, 0.588207, 0.581056, 0.576292, 0.566761, 0.555472, 0.545367, 0.538842, 0.529336, 0.518635, 0.506747, 0.499018, 0.491885, 0.484754, 0.475230, 0.464514, 0.454387, 0.444861, 0.437128, 0.415076, 0.401363, 0.390034, 0.378698])\n",
    "\n",
    "y_prima = func_3(X, 0.215, -6.67, -0.352)\n",
    "\n",
    "plt.scatter(X,y, marker = \".\", s = 60, c = \"black\")\n",
    "#plt.plot(X, y_prima, c = \"red\")"
   ]
  },
  {
   "cell_type": "code",
   "execution_count": null,
   "metadata": {},
   "outputs": [],
   "source": [
    "from sklearn import svm\n",
    "\n",
    "def nonlinear_model(rseed=42, n_samples=30):\n",
    "    radius = 40 * np.random.random(n_samples)\n",
    "    far_pts = radius > 20\n",
    "    radius[far_pts] *= 1.2\n",
    "    radius[~far_pts] *= 1.1\n",
    "\n",
    "    theta = np.random.random(n_samples) * np.pi * 2\n",
    "\n",
    "    data = np.empty((n_samples, 2))\n",
    "    data[:, 0] = radius * np.cos(theta)\n",
    "    data[:, 1] = radius * np.sin(theta)\n",
    "\n",
    "    labels = np.ones(n_samples)\n",
    "    labels[far_pts] = -1\n",
    "\n",
    "    return data, labels\n",
    "\n",
    "\n",
    "X, y = nonlinear_model()\n",
    "clf = svm.SVC(kernel='rbf', gamma=0.001, coef0=0, degree=3)\n",
    "clf.fit(X, y)\n",
    "\n",
    "plt.figure(figsize=(6, 4))\n",
    "ax = plt.subplot(1, 1, 1, xticks=[], yticks=[])\n",
    "ax.scatter(X[:, 0], X[:, 1], c=y, cmap=plt.cm.bone, zorder=2)\n",
    "\n",
    "ax.scatter(clf.support_vectors_[:, 0], clf.support_vectors_[:, 1],\n",
    "           s=80, edgecolors=\"k\", facecolors=\"none\")\n",
    "\n",
    "delta = 1\n",
    "y_min, y_max = -50, 50\n",
    "x_min, x_max = -50, 50\n",
    "x = np.arange(x_min, x_max + delta, delta)\n",
    "y = np.arange(y_min, y_max + delta, delta)\n",
    "X1, X2 = np.meshgrid(x, y)\n",
    "Z = clf.decision_function(np.c_[X1.ravel(), X2.ravel()])\n",
    "Z = Z.reshape(X1.shape)\n",
    "\n",
    "ax.contour(X1, X2, Z, [-1.0, 0.0, 1.0], colors='k',\n",
    "            linestyles=['dashed', 'solid', 'dashed'], zorder=1)\n",
    "\n",
    "plt.show()"
   ]
  }
 ],
 "metadata": {
  "kernelspec": {
   "display_name": "Python 3",
   "language": "python",
   "name": "python3"
  },
  "language_info": {
   "codemirror_mode": {
    "name": "ipython",
    "version": 3
   },
   "file_extension": ".py",
   "mimetype": "text/x-python",
   "name": "python",
   "nbconvert_exporter": "python",
   "pygments_lexer": "ipython3",
   "version": "3.6.10"
  }
 },
 "nbformat": 4,
 "nbformat_minor": 4
}

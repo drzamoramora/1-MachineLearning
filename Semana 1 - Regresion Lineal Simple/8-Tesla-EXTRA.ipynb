{
 "cells": [
  {
   "cell_type": "markdown",
   "metadata": {},
   "source": [
    "## Degradacion de la Bateria del Tesla Modelo S"
   ]
  },
  {
   "cell_type": "code",
   "execution_count": null,
   "metadata": {},
   "outputs": [],
   "source": [
    "import pandas as pd\n",
    "import matplotlib.pyplot as plt\n",
    "import re\n",
    "import numpy as np"
   ]
  },
  {
   "cell_type": "code",
   "execution_count": null,
   "metadata": {},
   "outputs": [],
   "source": [
    "# Cargar los datos de la bateria de Tesla\n",
    "\n",
    "data = pd.read_csv('data/tesla-battery.csv')\n",
    "print(data.shape)\n",
    "data.head()"
   ]
  },
  {
   "cell_type": "code",
   "execution_count": null,
   "metadata": {},
   "outputs": [],
   "source": [
    "# Kilometraje Actual de la Bateria (formato 32,080 km)\n",
    "X = data[\"kmstand huidige batterij\"]\n",
    "\n",
    "# Porcentaje del rango disponible (formato 95.00%)\n",
    "y = data[\"percentage\"]\n",
    "\n",
    "#  ====  Otros datos para formato ====\n",
    "\n",
    "# hay dos tipos de baterias 85kWh y 60kWh\n",
    "potencia = data[\"batterijvermogen\"]"
   ]
  },
  {
   "cell_type": "code",
   "execution_count": null,
   "metadata": {},
   "outputs": [],
   "source": [
    "# limpieza de datos\n",
    "X = [int(re.sub(\"[^0-9]\", \"\", a)) for a in X]\n",
    "y = [int(re.sub(\"[^0-9]\", \"\", b.split(\".\")[0])) for b in y]"
   ]
  },
  {
   "cell_type": "code",
   "execution_count": null,
   "metadata": {},
   "outputs": [],
   "source": [
    "plt.figure(figsize=(20,10)) # tamano del cuadro\n",
    "\n",
    "plt.title(\"\")\n",
    "\n",
    "potencia_colores = {'85 kWh':'#26648E', '60 kWh':'#53D2DC'}\n",
    "colors = potencia.apply(lambda x: potencia_colores[x])\n",
    "\n",
    "plt.scatter(X,y, c = colors, s = 80, alpha = 0.8)\n",
    "\n",
    "plt.xlabel(\"Kilometraje de la Bateria\")\n",
    "plt.xticks(rotation=45) \n",
    "plt.xticks(np.arange(0, 95000, 5000.0))\n",
    "\n",
    "plt.yticks(np.arange(76, 105, 1.0))\n",
    "plt.ylabel(\"Porcentaje Del Rango Disponible\")\n",
    "\n",
    "plt.show()\n"
   ]
  },
  {
   "cell_type": "markdown",
   "metadata": {},
   "source": [
    "## Ejercicio Opcional:\n",
    "\n",
    "Utilice Sklearn para estimar un modelo que se ajuste a los datos recolectados.\n",
    "\n",
    "- Calcule los coeficientes\n",
    "- Estime el MSE\n",
    "- Realice la prediccion del rango disponible (y) para una bateria con (x = 80,000 km y x = 140,000) y despliegue su prediccion en el grafico como un punto de color rojo.\n",
    "- Para desplegar el grafico y el modelo **Utilize Plotly** no utilize matplotlib."
   ]
  },
  {
   "cell_type": "code",
   "execution_count": null,
   "metadata": {},
   "outputs": [],
   "source": [
    "# 1. Estimacion de Coeficientes \n",
    "\n",
    "## <SU CODIGO AQUI>"
   ]
  },
  {
   "cell_type": "code",
   "execution_count": null,
   "metadata": {},
   "outputs": [],
   "source": [
    "# 2. Estimacion del MSE\n",
    "\n",
    "## <SU CODIGO AQUI>"
   ]
  },
  {
   "cell_type": "code",
   "execution_count": null,
   "metadata": {},
   "outputs": [],
   "source": [
    "# 3. Prediccion de f(80,000)\n",
    "\n",
    "## <SU CODIGO AQUI>"
   ]
  },
  {
   "cell_type": "code",
   "execution_count": null,
   "metadata": {},
   "outputs": [],
   "source": [
    "# 4. Desplegar todos los datos + la prediccion como un punto rojo (2)\n",
    "\n",
    "## <SU CODIGO AQUI>"
   ]
  },
  {
   "cell_type": "code",
   "execution_count": null,
   "metadata": {},
   "outputs": [],
   "source": []
  }
 ],
 "metadata": {
  "kernelspec": {
   "display_name": "Python 3",
   "language": "python",
   "name": "python3"
  },
  "language_info": {
   "codemirror_mode": {
    "name": "ipython",
    "version": 3
   },
   "file_extension": ".py",
   "mimetype": "text/x-python",
   "name": "python",
   "nbconvert_exporter": "python",
   "pygments_lexer": "ipython3",
   "version": "3.6.10"
  }
 },
 "nbformat": 4,
 "nbformat_minor": 4
}

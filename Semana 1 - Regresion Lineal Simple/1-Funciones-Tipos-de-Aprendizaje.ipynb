{
 "cells": [
  {
   "cell_type": "markdown",
   "metadata": {},
   "source": [
    "## Funciones\n",
    "\n",
    "<font color=red>Definición 1.0</font> En el contexto de las matemáticas, se llama **función** al vínculo que se desarrolla entre dos conjuntos, a través del cual a cada elemento de un conjunto se le asigna un solo elemento de otro conjunto o ninguno."
   ]
  },
  {
   "cell_type": "code",
   "execution_count": null,
   "metadata": {},
   "outputs": [],
   "source": [
    "## declaracion basica de una funcion en python\n",
    "\n",
    "def x2(x):\n",
    "    return x * x"
   ]
  },
  {
   "cell_type": "code",
   "execution_count": null,
   "metadata": {},
   "outputs": [],
   "source": [
    "print(\"La funcion x2(5) es\", x2(5))"
   ]
  },
  {
   "cell_type": "markdown",
   "metadata": {},
   "source": [
    "### Funcion Inyectiva\n",
    "\n",
    "<font color=red>Definición 1.1</font> Una **función inyectiva**, por lo tanto, es aquella que, a distintos elementos del conjunto inicial (el dominio), les corresponden distintos elementos del conjunto final (el codominio). Esto quiere decir que cada elemento del codominio tiene no más de una preimagen en el dominio: o, expresado de otra manera, que cada elemento del dominio no puede tener más de una imagen en el codominio."
   ]
  },
  {
   "cell_type": "code",
   "execution_count": null,
   "metadata": {},
   "outputs": [],
   "source": [
    "import numpy as np \n",
    "\n",
    "X = np.array([-10,-9,-8,-7,-6,-5,-4,-3,-2,-1,0,1,2,3,4,5,6,7,8,9,10])\n",
    "y = x2(X)\n",
    "\n",
    "print(y)"
   ]
  },
  {
   "cell_type": "code",
   "execution_count": null,
   "metadata": {},
   "outputs": [],
   "source": [
    "import matplotlib.pyplot as plt\n",
    "\n",
    "plt.plot(X,y)\n",
    "plt.scatter(X,y, c='r')\n",
    "plt.show()"
   ]
  },
  {
   "cell_type": "markdown",
   "metadata": {},
   "source": [
    "### Encontrar la Funcion f(x), cuando existe X, y\n",
    "\n",
    "Cuando estamos trabajando con machine learning, estamos buscando la función f(x), que es capaz de encontrar la relación entre X & y. "
   ]
  },
  {
   "cell_type": "code",
   "execution_count": null,
   "metadata": {},
   "outputs": [],
   "source": [
    "import matplotlib.pyplot as plt\n",
    "\n",
    "y1 = np.array([-27, -30, -17, -20, -23, -10, -13, -16,  -3,  -6,   7,   4,   1,\n",
    "        14,  11,   8,  21,  18,  31,  28,  25])\n",
    "\n",
    "plt.plot(X,y1)\n",
    "plt.scatter(X,y1, c='orange')\n",
    "plt.show()"
   ]
  },
  {
   "cell_type": "code",
   "execution_count": null,
   "metadata": {},
   "outputs": [],
   "source": [
    "# Ejercicio Opcional:\n",
    "# Averigue la funcion que explica la relacion entre X & y1\n",
    "\n",
    "## CODIGO AQUI f(X) = y1, averigue f"
   ]
  },
  {
   "cell_type": "markdown",
   "metadata": {},
   "source": [
    "<font color=red>Defincion 1.2</font> **Aprendizaje Surpervisado** se intenta averiguar f(x), cuando existe la variable independiente X y la variable dependiente y en los datos. \n",
    "\n",
    "En el aprendizaje supervisado, se asume que tanto X como y son verdaderos. \n",
    "\n",
    "Ejemplos de aprendizaje supervisado:\n",
    "\n",
    "- y: precio de casas, x: tamaño de la casa en m2\n",
    "- y: rechazado | aceptado, x: monto del prestamo, salario\n",
    "- y: seco | lluvioso | ventoso, x: humedad, presión, altitud, nubosidad, temperatura,...,xj"
   ]
  },
  {
   "cell_type": "markdown",
   "metadata": {},
   "source": [
    "### Encontrar f(X) cuando solo existe X\n",
    "\n",
    "Existen casos donde no existe y, por tanto debemos encontrar una función f(x) capaz de describir X, de alguna forma."
   ]
  },
  {
   "cell_type": "code",
   "execution_count": null,
   "metadata": {},
   "outputs": [],
   "source": [
    "X = np.array([[ 4.73211192,  5.53035547],\n",
    "       [ 4.30833925,  4.60324647],\n",
    "       [ 6.65980218,  5.74204416],\n",
    "       [-4.09298445, -5.87991301],\n",
    "       [-4.966229  , -4.53374783],\n",
    "       [ 3.89938082,  6.14472371],\n",
    "       [ 4.3128273 ,  4.15479436],\n",
    "       [ 5.90159072,  5.50249434],\n",
    "       [-4.3076739 , -6.84123096],\n",
    "       [ 5.90085595,  4.31627214],\n",
    "       [-3.83031365, -6.64811257],\n",
    "       [-4.74476872, -5.1994963 ],\n",
    "       [-5.25793376, -5.30724348],\n",
    "       [ 3.88268965,  5.2344157 ],\n",
    "       [-5.13794257, -5.70228673],\n",
    "       [-3.70052371, -5.48940513],\n",
    "       [-3.60415059, -5.60896552],\n",
    "       [ 4.87710977,  4.06423057],\n",
    "       [ 4.32875387,  4.9873354 ],\n",
    "       [-5.4225374 , -5.8583749 ]])\n",
    "\n",
    "\n",
    "plt.scatter(X[:,0],X[:,1], c = \"red\")\n",
    "plt.show()"
   ]
  },
  {
   "cell_type": "markdown",
   "metadata": {},
   "source": [
    "En el ejemplo anterior, vemos que no existe la variable \"y\", sino más bien, un conjunto de puntos x1,x2 que describen los datos solamente. Podemos observar que los datos se agrupan, pero no existe información adicional del porqué de estas agrupaciones.\n",
    "\n",
    "<font color=red>Definición 1.3</font> **Aprendizaje No-Supervisado**: cuando estamos trabajando con conjuntos de datos que no tienen la etiqueta \"y\". La función f(x) en este tipo de aprendizaje puede buscar separar los datos en clústeres, o en componentes.\n",
    "\n",
    "Algunos ejemplos de aprendizaje no-supervisado:\n",
    "\n",
    "- identificación de tipos de clientes de un supermercado (básico, dorado, platinum)\n",
    "- descripción de comunidades en ambientes heterogeneos (plantas, animales, etc)\n",
    "- análisis de tomografías para la identificación de masas. \n",
    "- conversión de imágenes de 256 colores a 16 colores (compresión).\n",
    "- identificación de grupos en redes sociales. "
   ]
  },
  {
   "cell_type": "markdown",
   "metadata": {},
   "source": [
    "<font color=red>Definición 1.4</font> **Aprendizaje Semi-Supervisado** Cuando se intenta etiquetar un set de datos no-supervisados, a partir de un set reducido de datos (supervisados o manualmente etiquetados). Se trata de inferir las etiquetas correctas de un set de datos no-supervisados."
   ]
  },
  {
   "cell_type": "markdown",
   "metadata": {},
   "source": [
    "<font color=red>Definición 1.5</font> La **función de aprendizaje** es aquella función f(x) que permite realizar una (1) predicción sobre X para identificar valores nuevos de Y, o bien para generar (2) inferencia, en donde nos enfocamos en comprender el efecto en Y sobre los cambios en X. \n",
    "\n",
    "Algunos ejemplos de inferencias:\n",
    "\n",
    "- determinar el impacto del uso de anuncios de radio en las ventas anuales\n",
    "- es mejor utilizar anuncios de periódico, TV o Radio (o todos) para las ventas?\n",
    "- cual es el impacto de cancelar los anuncios de radio en las ventas del mes?"
   ]
  },
  {
   "cell_type": "code",
   "execution_count": null,
   "metadata": {},
   "outputs": [],
   "source": []
  }
 ],
 "metadata": {
  "kernelspec": {
   "display_name": "Python 3",
   "language": "python",
   "name": "python3"
  },
  "language_info": {
   "codemirror_mode": {
    "name": "ipython",
    "version": 3
   },
   "file_extension": ".py",
   "mimetype": "text/x-python",
   "name": "python",
   "nbconvert_exporter": "python",
   "pygments_lexer": "ipython3",
   "version": "3.6.10"
  }
 },
 "nbformat": 4,
 "nbformat_minor": 4
}

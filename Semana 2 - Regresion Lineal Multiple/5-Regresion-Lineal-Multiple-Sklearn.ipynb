{
 "cells": [
  {
   "cell_type": "markdown",
   "metadata": {},
   "source": [
    "## Regresión Lineal Múltiple con SkLearn\n",
    "\n",
    "Vamos a replicar el cuaderno #4 pero con Sklearn!"
   ]
  },
  {
   "cell_type": "code",
   "execution_count": 18,
   "metadata": {},
   "outputs": [],
   "source": [
    "import numpy as np\n",
    "import pandas as pd\n",
    "\n",
    "# vamos a cargar los datos del dataset de Autos\n",
    "data = pd.read_csv(\"data/auto-mpg.csv\")\n",
    "\n",
    "# Eliminar una columna (drop)\n",
    "data.drop('car name',axis=1,inplace=True)\n",
    "\n",
    "# convertir columnas en datos numericos\n",
    "for c in data.columns:\n",
    "    data[c] = pd.to_numeric(data[c], errors ='coerce')\n",
    "    \n",
    "# vamos a reemplazar los valores nulos por la mediana.\n",
    "data['horsepower'] = data['horsepower'].fillna(data['horsepower'].median())\n",
    "\n",
    "# seleccionamos los datos (menos mpg que es y)\n",
    "\n",
    "X = data.iloc[:,1:]\n",
    "y = data.iloc[:,0]\n"
   ]
  },
  {
   "cell_type": "code",
   "execution_count": 23,
   "metadata": {},
   "outputs": [
    {
     "name": "stdout",
     "output_type": "stream",
     "text": [
      "b 0 : -17.91\n",
      "b 1 : -0.42\n",
      "b 2 : 0.02\n",
      "b 3 : -0.01\n",
      "b 4 : -0.01\n",
      "b 5 : 0.10\n",
      "b 6 : 0.76\n",
      "b 7 : 1.42\n"
     ]
    }
   ],
   "source": [
    "from sklearn.linear_model import LinearRegression\n",
    "\n",
    "model = LinearRegression().fit(X.values, y.values)\n",
    "\n",
    "print(\"b\",0,\":\",\"%.2f\"%model.intercept_)\n",
    "for i,b in zip(np.arange(1,len(model.coef_)+1), model.coef_):\n",
    "    print(\"b\",i,\":\", \"%.2f\"%b)"
   ]
  },
  {
   "cell_type": "code",
   "execution_count": 24,
   "metadata": {},
   "outputs": [
    {
     "name": "stdout",
     "output_type": "stream",
     "text": [
      "MSE: 10.91081105566667\n"
     ]
    }
   ],
   "source": [
    "# Realizamos la prediccion de y_prima!\n",
    "y_prima = model.predict(X)\n",
    "\n",
    "# calculamos el MSE con Sklearn!\n",
    "from sklearn.metrics import mean_squared_error\n",
    "mse = mean_squared_error(y, y_prima)\n",
    "print(\"MSE:\",mse)"
   ]
  },
  {
   "cell_type": "code",
   "execution_count": null,
   "metadata": {},
   "outputs": [],
   "source": []
  }
 ],
 "metadata": {
  "kernelspec": {
   "display_name": "Python 3",
   "language": "python",
   "name": "python3"
  },
  "language_info": {
   "codemirror_mode": {
    "name": "ipython",
    "version": 3
   },
   "file_extension": ".py",
   "mimetype": "text/x-python",
   "name": "python",
   "nbconvert_exporter": "python",
   "pygments_lexer": "ipython3",
   "version": "3.6.9"
  }
 },
 "nbformat": 4,
 "nbformat_minor": 4
}

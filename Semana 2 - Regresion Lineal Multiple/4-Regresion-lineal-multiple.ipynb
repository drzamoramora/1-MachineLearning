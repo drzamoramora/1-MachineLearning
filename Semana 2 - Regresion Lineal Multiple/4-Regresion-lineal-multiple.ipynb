{
 "cells": [
  {
   "cell_type": "markdown",
   "metadata": {},
   "source": [
    "## Regresión Lineal Múltiple\n",
    "\n",
    "En la regresión lineal múltiple se genera un modelo que predice la variable dependiente “y” a partir de un set de variables X1,X2,...,Nn. Esto implica por cada término X, calcular a partir de los datos una serie de parámetros beta, donde la ecuación queda de la siguiente forma: \n",
    "\n",
    "$$ y = \\beta_0 * 1 + \\beta_1 x_1 + \\beta_2 x_2 + ... + \\beta_k x_k $$  \n",
    "\n",
    "En el monomio $\\beta_0 * 1$ observamos un 1, esto es para poder calcular \"y\" como la multiplicacion de dos arreglos $\\beta$ y  $X$, donde $X=[1,45,67,98,12]$, el uno es para que ambos vectores tengan las mismas dimensiones.\n",
    "\n",
    "$$ y = \\beta X^T$$"
   ]
  },
  {
   "cell_type": "markdown",
   "metadata": {},
   "source": [
    "### Cálculo de los coeficientes beta utilizando mínimos cuadrados.\n",
    "\n",
    "$$ \\hat{\\beta} = (X^TX)'X^Ty$$"
   ]
  },
  {
   "cell_type": "code",
   "execution_count": 146,
   "metadata": {},
   "outputs": [],
   "source": [
    "import numpy as np\n",
    "import pandas as pd"
   ]
  },
  {
   "cell_type": "code",
   "execution_count": 147,
   "metadata": {},
   "outputs": [
    {
     "data": {
      "text/html": [
       "<div>\n",
       "<style scoped>\n",
       "    .dataframe tbody tr th:only-of-type {\n",
       "        vertical-align: middle;\n",
       "    }\n",
       "\n",
       "    .dataframe tbody tr th {\n",
       "        vertical-align: top;\n",
       "    }\n",
       "\n",
       "    .dataframe thead th {\n",
       "        text-align: right;\n",
       "    }\n",
       "</style>\n",
       "<table border=\"1\" class=\"dataframe\">\n",
       "  <thead>\n",
       "    <tr style=\"text-align: right;\">\n",
       "      <th></th>\n",
       "      <th>mpg</th>\n",
       "      <th>unos</th>\n",
       "      <th>cylinders</th>\n",
       "      <th>displacement</th>\n",
       "      <th>horsepower</th>\n",
       "      <th>weight</th>\n",
       "      <th>acceleration</th>\n",
       "      <th>model year</th>\n",
       "      <th>origin</th>\n",
       "    </tr>\n",
       "  </thead>\n",
       "  <tbody>\n",
       "    <tr>\n",
       "      <th>0</th>\n",
       "      <td>18.0</td>\n",
       "      <td>1.0</td>\n",
       "      <td>8</td>\n",
       "      <td>307.0</td>\n",
       "      <td>130.0</td>\n",
       "      <td>3504</td>\n",
       "      <td>12.0</td>\n",
       "      <td>70</td>\n",
       "      <td>1</td>\n",
       "    </tr>\n",
       "    <tr>\n",
       "      <th>1</th>\n",
       "      <td>15.0</td>\n",
       "      <td>1.0</td>\n",
       "      <td>8</td>\n",
       "      <td>350.0</td>\n",
       "      <td>165.0</td>\n",
       "      <td>3693</td>\n",
       "      <td>11.5</td>\n",
       "      <td>70</td>\n",
       "      <td>1</td>\n",
       "    </tr>\n",
       "    <tr>\n",
       "      <th>2</th>\n",
       "      <td>18.0</td>\n",
       "      <td>1.0</td>\n",
       "      <td>8</td>\n",
       "      <td>318.0</td>\n",
       "      <td>150.0</td>\n",
       "      <td>3436</td>\n",
       "      <td>11.0</td>\n",
       "      <td>70</td>\n",
       "      <td>1</td>\n",
       "    </tr>\n",
       "    <tr>\n",
       "      <th>3</th>\n",
       "      <td>16.0</td>\n",
       "      <td>1.0</td>\n",
       "      <td>8</td>\n",
       "      <td>304.0</td>\n",
       "      <td>150.0</td>\n",
       "      <td>3433</td>\n",
       "      <td>12.0</td>\n",
       "      <td>70</td>\n",
       "      <td>1</td>\n",
       "    </tr>\n",
       "    <tr>\n",
       "      <th>4</th>\n",
       "      <td>17.0</td>\n",
       "      <td>1.0</td>\n",
       "      <td>8</td>\n",
       "      <td>302.0</td>\n",
       "      <td>140.0</td>\n",
       "      <td>3449</td>\n",
       "      <td>10.5</td>\n",
       "      <td>70</td>\n",
       "      <td>1</td>\n",
       "    </tr>\n",
       "  </tbody>\n",
       "</table>\n",
       "</div>"
      ],
      "text/plain": [
       "    mpg  unos  cylinders  displacement  horsepower  weight  acceleration  \\\n",
       "0  18.0   1.0          8         307.0       130.0    3504          12.0   \n",
       "1  15.0   1.0          8         350.0       165.0    3693          11.5   \n",
       "2  18.0   1.0          8         318.0       150.0    3436          11.0   \n",
       "3  16.0   1.0          8         304.0       150.0    3433          12.0   \n",
       "4  17.0   1.0          8         302.0       140.0    3449          10.5   \n",
       "\n",
       "   model year  origin  \n",
       "0          70       1  \n",
       "1          70       1  \n",
       "2          70       1  \n",
       "3          70       1  \n",
       "4          70       1  "
      ]
     },
     "execution_count": 147,
     "metadata": {},
     "output_type": "execute_result"
    }
   ],
   "source": [
    "# vamos a cargar los datos del dataset de Autos\n",
    "data = pd.read_csv(\"data/auto-mpg.csv\")\n",
    "\n",
    "# Eliminar una columna (drop)\n",
    "data.drop('car name',axis=1,inplace=True)\n",
    "\n",
    "# convertir columnas en datos numericos\n",
    "for c in data.columns:\n",
    "    data[c] = pd.to_numeric(data[c], errors ='coerce')\n",
    "    \n",
    "# vamos a reemplazar los valores nulos por la mediana.\n",
    "data['horsepower'] = data['horsepower'].fillna(data['horsepower'].median())\n",
    "\n",
    "# vamos a meter una columna de 1s a X\n",
    "rows = data.shape[0]\n",
    "data.insert(1,'unos',np.ones(rows).reshape(-1,1))\n",
    "\n",
    "data.head()"
   ]
  },
  {
   "cell_type": "code",
   "execution_count": 148,
   "metadata": {},
   "outputs": [],
   "source": [
    "# seleccionamos los datos (menos mpg que es y)\n",
    "\n",
    "X = data.iloc[:,1:]\n",
    "y = data.iloc[:,0]\n",
    "y = np.array(y).reshape(-1,1)"
   ]
  },
  {
   "cell_type": "code",
   "execution_count": 149,
   "metadata": {},
   "outputs": [
    {
     "name": "stdout",
     "output_type": "stream",
     "text": [
      "b 0 : -17.91\n",
      "b 1 : -0.42\n",
      "b 2 : 0.02\n",
      "b 3 : -0.01\n",
      "b 4 : -0.01\n",
      "b 5 : 0.10\n",
      "b 6 : 0.76\n",
      "b 7 : 1.42\n"
     ]
    }
   ],
   "source": [
    "# calculos de los coeficientes Beta (vectorizados)\n",
    "from numpy.linalg import inv\n",
    "\n",
    "Xm = X.values # matriz\n",
    "\n",
    "a = inv(np.dot(Xm.transpose(), Xm)) #inv(xTx)\n",
    "b = np.dot(a, Xm.transpose()) # (xTx)^-1 * xT\n",
    "betas = np.dot(b,y) # (xTx)^-1 * xT * y\n",
    "\n",
    "for i,b in zip(np.arange(0,len(betas)+1), betas):\n",
    "    print(\"b\",i,\":\",\"%.2f\"%b)"
   ]
  },
  {
   "cell_type": "code",
   "execution_count": 150,
   "metadata": {},
   "outputs": [],
   "source": [
    "# Realizamos la prediccion de y_prima!\n",
    "y_prima = np.dot(Xm, betas)"
   ]
  },
  {
   "cell_type": "code",
   "execution_count": 151,
   "metadata": {},
   "outputs": [
    {
     "name": "stdout",
     "output_type": "stream",
     "text": [
      "MSE: 10.910811055666656\n"
     ]
    }
   ],
   "source": [
    "# calculamos el MSE con Sklearn!\n",
    "from sklearn.metrics import mean_squared_error\n",
    "mse = mean_squared_error(y, y_prima)\n",
    "print(\"MSE:\",mse)"
   ]
  },
  {
   "cell_type": "code",
   "execution_count": null,
   "metadata": {},
   "outputs": [],
   "source": []
  }
 ],
 "metadata": {
  "kernelspec": {
   "display_name": "Python 3",
   "language": "python",
   "name": "python3"
  },
  "language_info": {
   "codemirror_mode": {
    "name": "ipython",
    "version": 3
   },
   "file_extension": ".py",
   "mimetype": "text/x-python",
   "name": "python",
   "nbconvert_exporter": "python",
   "pygments_lexer": "ipython3",
   "version": "3.6.9"
  }
 },
 "nbformat": 4,
 "nbformat_minor": 4
}

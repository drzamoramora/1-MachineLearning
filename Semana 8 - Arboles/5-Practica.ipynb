{
 "cells": [
  {
   "cell_type": "markdown",
   "metadata": {},
   "source": [
    "# Práctica semanal\n",
    "\n",
    "### El dataset del Titanic\n",
    "\n",
    "Este curioso dataset, de 886 filas y 8 columnas, representa una base de datos de pasajeros del **HMS Titanic**, incluyendo su nombre, sexo, edad, clase de pasaje, número de hermanos y cónyugues a bordo, número de padres e hijos a bordo, y el total que pagaron por concepto de pasaje. Además de esto, incluye una **columna que indica si el pasajero sobrevivió**. "
   ]
  },
  {
   "cell_type": "code",
   "execution_count": null,
   "metadata": {},
   "outputs": [],
   "source": [
    "## EJERCICIO 1 (10pt): entrene un modelo de bosques aleatorios para el dataset del Titanic. \n",
    "## Luego, utilice le modelo para determinar cuáles son las columnas más importantes en la decisión\n",
    "## Para ello, se debe utilizar el atributo \"feature_importances_\" del objeto RandomForestClassifier(), se ordenan\n",
    "## los valores por importancia (usando no.argsort()) y se obtienen las columnas relevantes para mostrar su importancia.\n",
    "\n",
    "import pandas as pd\n",
    "from sklearn import tree\n",
    "from sklearn.tree import DecisionTreeClassifier\n",
    "#from sklearn.ensemble import RandomForestClassifier\n",
    "from sklearn.preprocessing import OneHotEncoder\n",
    "import numpy as np\n",
    "import matplotlib.pyplot as plt\n",
    "\n",
    "\n",
    "## Leemos el dataset\n",
    "all_titanic = pd.read_csv('data/titanic.csv')\n",
    "\n",
    "## Obtenemos la columna de supervivencia\n",
    "survived = all_titanic['Survived']\n",
    "all_other = all_titanic[all_titanic.columns[[1,3,4,5,6,7]]]\n",
    "\n",
    "all_other_enc = all_other.copy()\n",
    "all_other_enc['Sex'] = (all_other_enc['Sex'] == 'male') * 1.0\n",
    "rf = RandomForestClassifier().fit(all_other_enc, survived)\n",
    "\n",
    "importances = rf.feature_importances_\n",
    "indices = np.argsort(importances)[::-1]\n",
    "all_other_enc.columns[indices]"
   ]
  },
  {
   "cell_type": "code",
   "execution_count": null,
   "metadata": {},
   "outputs": [],
   "source": []
  }
 ],
 "metadata": {
  "kernelspec": {
   "display_name": "Python 3",
   "language": "python",
   "name": "python3"
  },
  "language_info": {
   "codemirror_mode": {
    "name": "ipython",
    "version": 3
   },
   "file_extension": ".py",
   "mimetype": "text/x-python",
   "name": "python",
   "nbconvert_exporter": "python",
   "pygments_lexer": "ipython3",
   "version": "3.7.7"
  }
 },
 "nbformat": 4,
 "nbformat_minor": 2
}

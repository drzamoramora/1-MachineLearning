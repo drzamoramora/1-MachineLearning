{
 "cells": [
  {
   "cell_type": "markdown",
   "metadata": {},
   "source": [
    "# Práctica semanal\n",
    "\n",
    "### El dataset del Titanic\n",
    "\n",
    "Este curioso dataset, de 886 filas y 8 columnas, representa una base de datos de pasajeros del **HMS Titanic**, incluyendo su nombre, sexo, edad, clase de pasaje, número de hermanos y cónyugues a bordo, número de padres e hijos a bordo, y el total que pagaron por concepto de pasaje. Además de esto, incluye una **columna que indica si el pasajero sobrevivió**. "
   ]
  },
  {
   "cell_type": "code",
   "execution_count": null,
   "metadata": {},
   "outputs": [],
   "source": [
    "## EJERCICIO 1 (5pt): entrene un modelo de árboles de decisión para el dataset del Titanic. \n",
    "## Describa en un párrafo su interpretación del modelo resultante\n",
    "\n",
    "import pandas as pd\n",
    "from sklearn import tree\n",
    "from sklearn.tree import DecisionTreeClassifier\n",
    "from sklearn.preprocessing import OneHotEncoder\n",
    "import numpy as np\n",
    "import matplotlib.pyplot as plt\n",
    "\n",
    "\n",
    "## Leemos el dataset\n",
    "all_titanic = pd.read_csv('data/titanic.csv')\n",
    "\n",
    "## Obtenemos la columna de supervivencia\n",
    "survived = all_titanic['Survived']\n",
    "all_other = all_titanic[all_titanic.columns[[1,3,4,5,6,7]]]\n",
    "\n",
    "enc = OneHotEncoder().fit(all_other)\n",
    "all_other_enc = enc.transform(all_other)\n",
    "dt = DecisionTreeClassifier().fit(all_other_enc, survived)\n",
    "\n",
    "plt.figure(figsize=(20,20))\n",
    "tree.plot_tree(dt, filled=True)\n",
    "plt.show()"
   ]
  },
  {
   "cell_type": "code",
   "execution_count": null,
   "metadata": {},
   "outputs": [],
   "source": []
  }
 ],
 "metadata": {
  "kernelspec": {
   "display_name": "Python 3",
   "language": "python",
   "name": "python3"
  },
  "language_info": {
   "codemirror_mode": {
    "name": "ipython",
    "version": 3
   },
   "file_extension": ".py",
   "mimetype": "text/x-python",
   "name": "python",
   "nbconvert_exporter": "python",
   "pygments_lexer": "ipython3",
   "version": "3.7.7"
  }
 },
 "nbformat": 4,
 "nbformat_minor": 2
}

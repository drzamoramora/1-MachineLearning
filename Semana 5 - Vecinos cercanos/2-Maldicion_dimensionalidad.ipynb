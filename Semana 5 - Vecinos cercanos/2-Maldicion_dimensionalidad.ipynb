{
 "cells": [
  {
   "cell_type": "markdown",
   "metadata": {},
   "source": [
    "# La maldición de la dimensionalidad\n",
    "\n",
    "En el notebook anterior comentamos que *k*-NN es vulnerable a la llamada *maldición de la dimensionalidad*. Este es un fenómeno que se presenta de distintas formas cuando trabajamos con datos con un número de dimensiones muy alto. \n",
    "\n",
    "Para ilustrar esto, vamos a evaluar cómo se comporta la distribución de la distancia euclideana entre todos los puntos de un dataset a medida que incluímos más dimensiones."
   ]
  },
  {
   "cell_type": "code",
   "execution_count": null,
   "metadata": {},
   "outputs": [],
   "source": [
    "import numpy as np\n",
    "import matplotlib.pyplot as plt\n",
    "import pandas as pd\n",
    "from scipy.stats import iqr\n",
    "\n",
    "N = 250\n",
    "val_dims = [1, 2, 3, 5, 10, 20, 30, 50, 100, 500, 1000, 2000]\n",
    "d_mean = []\n",
    "\n",
    "\n",
    "for d in val_dims:\n",
    "    x1 = np.random.rand(N, d)\n",
    "    dist = np.sqrt(np.hstack([(np.sum((x - x1)**2,axis=1)) for x in x1]))    \n",
    "    d_mean.append(dist.mean())\n",
    "\n",
    "    plt.hist(dist,bins=50, density=True)\n",
    "    plt.xlabel(\"dim=\" + str(d))\n",
    "    plt.show()\n",
    "    \n",
    "pd.DataFrame(d_mean, val_dims, ['distancia_promedio'])"
   ]
  },
  {
   "cell_type": "markdown",
   "metadata": {},
   "source": [
    "Como podemos observar, a medida que agregamos más dimensiones, la distancia promedio entre un punto y otro **además de crecer**, **se confina a un rango de valores pequeño**.\n",
    "\n",
    "¿Cuál es la consecuencia de esto? Que, con una alta dimensionalidad, **todos los vecinos tienden a ser \"distantes\"** para nuestro clasificador $k$-NN, haciendo cada vez más difícil diferenciar un punto de otro, lo cual **desmejora la calidad del clasificador**.\n",
    "\n",
    "## ¿Qué podemos hacer? \n",
    "\n",
    "Cuando contamos con una alta cantidad de dimensiones, se vuelve más probable que tengamos dimensiones que son \n",
    "\n",
    "1. **Redundantes**. Es decir, que no aportan información adicional porque existe al menos otra dimensión que ya lo hace\n",
    "2. **Irrelevantes**. Es decir, que no la información que aporta no ayuda al problema que estamos tratando de resolver.\n",
    "\n",
    "Lo que quiere decir que, mediante el uso de técnicas de **reducción de dimensionalidad**, podemos quitar de nuestro dataset de aquellas dimensiones que cumplan con las anteriores condiciones.\n"
   ]
  }
 ],
 "metadata": {
  "kernelspec": {
   "display_name": "Python 3",
   "language": "python",
   "name": "python3"
  },
  "language_info": {
   "codemirror_mode": {
    "name": "ipython",
    "version": 3
   },
   "file_extension": ".py",
   "mimetype": "text/x-python",
   "name": "python",
   "nbconvert_exporter": "python",
   "pygments_lexer": "ipython3",
   "version": "3.7.7"
  }
 },
 "nbformat": 4,
 "nbformat_minor": 2
}
